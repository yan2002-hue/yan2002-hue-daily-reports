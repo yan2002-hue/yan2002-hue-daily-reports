{
 "cells": [
  {
   "cell_type": "code",
   "execution_count": 117,
   "id": "bdc151a3-ad2b-4b8c-a41e-538c10dc44da",
   "metadata": {},
   "outputs": [
    {
     "data": {
      "text/plain": [
       "([1, 5, 8, 10, 4, 50, 8],\n",
       " ['Olivier', 'ENGEL', 'Strasbourg'],\n",
       " [1, 'Olivier', 5, 8, 'ENGEL', 10, 4, 50, 'Strasbourg'])"
      ]
     },
     "execution_count": 117,
     "metadata": {},
     "output_type": "execute_result"
    }
   ],
   "source": [
    "x = [1, 5, 8, 10, 4, 50, 8] \n",
    "y = [\"Olivier\", \"ENGEL\", \"Strasbourg\"] \n",
    "z = [1, \"Olivier\", 5, 8, \"ENGEL\", 10, 4, 50, \"Strasbourg\"]\n",
    "x, y, z"
   ]
  },
  {
   "cell_type": "code",
   "execution_count": 11,
   "id": "19a0d246-4c99-46a6-a9c3-2841f03bc316",
   "metadata": {},
   "outputs": [
    {
     "name": "stdout",
     "output_type": "stream",
     "text": [
      "[2, 3, 4, 5, 6, 7, 8, 9]\n"
     ]
    }
   ],
   "source": [
    "x= list(range(2, 10))\n",
    "print(x)"
   ]
  },
  {
   "cell_type": "code",
   "execution_count": 13,
   "id": "3e76bb0b-a09e-47cc-8324-890434dc90a9",
   "metadata": {},
   "outputs": [
    {
     "data": {
      "text/plain": [
       "(1, 'Olivier', 5, 8, 'ENGEL', 10, 4, 50, 'Strasbourg')"
      ]
     },
     "execution_count": 13,
     "metadata": {},
     "output_type": "execute_result"
    }
   ],
   "source": [
    "x = (1, 5, 8, 10, 4, 50, 8) # Tuple consisting only of numbers\n",
    "y = (\"Olivier\", \"ENGEL\", \"Strasbourg\") # Tuple consisting only of characters\n",
    "z = (1, \"Olivier\", 5, 8, \"ENGEL\", 10, 4, 50, \"Strasbourg\")\n",
    "\n",
    "z"
   ]
  },
  {
   "cell_type": "code",
   "execution_count": 14,
   "id": "7e330c22-7fe7-4c15-b44d-60bd97b48eb6",
   "metadata": {},
   "outputs": [
    {
     "name": "stdout",
     "output_type": "stream",
     "text": [
      "(1, 2, 3, 4, 5, 6, 7, 8, 9)\n"
     ]
    }
   ],
   "source": [
    "x= tuple(range(1, 10))\n",
    "print(x)"
   ]
  },
  {
   "cell_type": "code",
   "execution_count": 15,
   "id": "5eb564f7-8ebe-4916-9903-421fce388809",
   "metadata": {},
   "outputs": [
    {
     "data": {
      "text/plain": [
       "{1, 10, 4, 5, 50, 8, 'ENGEL', 'Olivier', 'Strasbourg'}"
      ]
     },
     "execution_count": 15,
     "metadata": {},
     "output_type": "execute_result"
    }
   ],
   "source": [
    "x = {1, 5, 8, 10, 4, 50, 8} # Set consisting only of numbers\n",
    "y = {\"Olivier\", \"ENGEL\", \"Strasbourg\"} # Set consisting only of characters\n",
    "z = {1, \"Olivier\", 5, 8, \"ENGEL\", 10, 4, 50, \"Strasbourg\"} \n",
    "\n",
    "z"
   ]
  },
  {
   "cell_type": "code",
   "execution_count": 18,
   "id": "c70f27f5-afc1-404d-86ca-d0251d71579e",
   "metadata": {},
   "outputs": [
    {
     "name": "stdout",
     "output_type": "stream",
     "text": [
      "{2, 4, 'tomate', 'orange', 'meat'}\n"
     ]
    }
   ],
   "source": [
    "v=[2, 4, \"orange\", \"meat\", 4, \"tomate\"]\n",
    "V=set(v)\n",
    "print(V)"
   ]
  },
  {
   "cell_type": "code",
   "execution_count": 20,
   "id": "fd7de830-3624-4fe3-892f-64ff0b7fa5c8",
   "metadata": {},
   "outputs": [
    {
     "data": {
      "text/plain": [
       "{'Jean': [25, 70, 1.75], 'Paul': [30, 65, 1.8], 'Pierre': [35, 75, 1.65]}"
      ]
     },
     "execution_count": 20,
     "metadata": {},
     "output_type": "execute_result"
    }
   ],
   "source": [
    "x = {'name': 'Jean', 'weight': 70, 'height': 1.75} # Keys with unique values.\n",
    "y = {'Jean': [25, 70, 1.75], 'Paul': [30, 65, 1.80], 'Pierre': [35, 75, 1.65]}\n",
    "\n",
    "y"
   ]
  },
  {
   "cell_type": "code",
   "execution_count": 26,
   "id": "e1d1f235-3954-4c29-a925-71bf7b1eec98",
   "metadata": {},
   "outputs": [
    {
     "data": {
      "text/plain": [
       "list"
      ]
     },
     "execution_count": 26,
     "metadata": {},
     "output_type": "execute_result"
    }
   ],
   "source": [
    "voltage = [-2.0, -1.0, 0.0, 1.0, 2.0]\n",
    "type(voltage)"
   ]
  },
  {
   "cell_type": "code",
   "execution_count": 29,
   "id": "dd6bce20-6dd5-43b0-99e5-fedd3047f30b",
   "metadata": {},
   "outputs": [
    {
     "name": "stdout",
     "output_type": "stream",
     "text": [
      "Help on NoneType object:\n",
      "\n",
      "class NoneType(object)\n",
      " |  The type of the None singleton.\n",
      " |\n",
      " |  Methods defined here:\n",
      " |\n",
      " |  __bool__(self, /)\n",
      " |      True if self else False\n",
      " |\n",
      " |  __eq__(self, value, /)\n",
      " |      Return self==value.\n",
      " |\n",
      " |  __ge__(self, value, /)\n",
      " |      Return self>=value.\n",
      " |\n",
      " |  __gt__(self, value, /)\n",
      " |      Return self>value.\n",
      " |\n",
      " |  __hash__(self, /)\n",
      " |      Return hash(self).\n",
      " |\n",
      " |  __le__(self, value, /)\n",
      " |      Return self<=value.\n",
      " |\n",
      " |  __lt__(self, value, /)\n",
      " |      Return self<value.\n",
      " |\n",
      " |  __ne__(self, value, /)\n",
      " |      Return self!=value.\n",
      " |\n",
      " |  __repr__(self, /)\n",
      " |      Return repr(self).\n",
      " |\n",
      " |  ----------------------------------------------------------------------\n",
      " |  Static methods defined here:\n",
      " |\n",
      " |  __new__(*args, **kwargs)\n",
      " |      Create and return a new object.  See help(type) for accurate signature.\n",
      "\n"
     ]
    }
   ],
   "source": [
    "help(voltage.sort())"
   ]
  },
  {
   "cell_type": "code",
   "execution_count": 118,
   "id": "3ba438a1-f55c-4608-947d-e4e06555dae8",
   "metadata": {},
   "outputs": [
    {
     "data": {
      "text/plain": [
       "([[1, 2, 3], [2, 3, 4], [3, 4, 5]], [[[1, 2], [2, 3]], [[4, 5], [5, 6]]])"
      ]
     },
     "execution_count": 118,
     "metadata": {},
     "output_type": "execute_result"
    }
   ],
   "source": [
    "x = [[1,2,3],[2,3,4],[3,4,5]] # liste à deux dimensions (liste de listes)\n",
    "\n",
    "y = [[[1,2],[2,3]],[[4,5],[5,6]]] # liste à trois dimensions (liste de listes de listes)\n",
    "\n",
    "x,y"
   ]
  },
  {
   "cell_type": "code",
   "execution_count": 31,
   "id": "f2f437e5-ece6-41f4-9d5b-5462eff48ffd",
   "metadata": {},
   "outputs": [
    {
     "name": "stdout",
     "output_type": "stream",
     "text": [
      "['Monday', 'Tuesday', 'Wednesday', 1800, 20.357, 'Thursday', 'Friday']\n"
     ]
    }
   ],
   "source": [
    "x = list(['Monday', 'Tuesday', 'Wednesday', 1800, 20.357, 'Thursday', 'Friday']) # Definition of a list\n",
    "print(x) "
   ]
  },
  {
   "cell_type": "code",
   "execution_count": 32,
   "id": "4cd33fdd-e318-463c-bb08-97d8c4539182",
   "metadata": {},
   "outputs": [
    {
     "name": "stdout",
     "output_type": "stream",
     "text": [
      "Monday\n",
      "================================================\n",
      "\t\n"
     ]
    }
   ],
   "source": [
    "print(x[0])\n",
    "print(\"================================================\")\n",
    "print('\\t')"
   ]
  },
  {
   "cell_type": "code",
   "execution_count": 33,
   "id": "df23fb3e-f97b-4702-ae62-ff9d97092039",
   "metadata": {},
   "outputs": [
    {
     "name": "stdout",
     "output_type": "stream",
     "text": [
      "1800\n"
     ]
    }
   ],
   "source": [
    "print(x[3])"
   ]
  },
  {
   "cell_type": "code",
   "execution_count": 35,
   "id": "fed90545-bf42-42ed-a409-923cf209cee5",
   "metadata": {},
   "outputs": [
    {
     "name": "stdout",
     "output_type": "stream",
     "text": [
      "['Tuesday', 'Wednesday']\n"
     ]
    }
   ],
   "source": [
    "print(x[1:3])"
   ]
  },
  {
   "cell_type": "code",
   "execution_count": 36,
   "id": "d9abb51b-ca7d-456f-aed4-3e7c23f9d63a",
   "metadata": {},
   "outputs": [
    {
     "name": "stdout",
     "output_type": "stream",
     "text": [
      "['Tuesday', 1800, 'Thursday']\n"
     ]
    }
   ],
   "source": [
    "print(x[1:6:2])"
   ]
  },
  {
   "cell_type": "code",
   "execution_count": 38,
   "id": "c9101781-9af7-45ac-b18a-8f7ae66b1f03",
   "metadata": {},
   "outputs": [
    {
     "name": "stdout",
     "output_type": "stream",
     "text": [
      "['Wednesday', 1800, 20.357, 'Thursday', 'Friday']\n"
     ]
    }
   ],
   "source": [
    "print(x[2:])"
   ]
  },
  {
   "cell_type": "code",
   "execution_count": 39,
   "id": "7958b793-f139-4e33-b6ff-71d5b61817c6",
   "metadata": {},
   "outputs": [
    {
     "name": "stdout",
     "output_type": "stream",
     "text": [
      "['Monday', 'Tuesday', 'Wednesday']\n"
     ]
    }
   ],
   "source": [
    "print(x[:3])"
   ]
  },
  {
   "cell_type": "code",
   "execution_count": 40,
   "id": "e9f174e4-fe9d-4653-9ccb-222f18d413f8",
   "metadata": {},
   "outputs": [
    {
     "name": "stdout",
     "output_type": "stream",
     "text": [
      "Friday\n"
     ]
    }
   ],
   "source": [
    "print(x[-1])"
   ]
  },
  {
   "cell_type": "code",
   "execution_count": 119,
   "id": "0bf3a746-2dd6-42cd-b707-17ad73e39820",
   "metadata": {},
   "outputs": [
    {
     "name": "stdout",
     "output_type": "stream",
     "text": [
      "[2, 3, 4]\n"
     ]
    }
   ],
   "source": [
    "print(x[-2])"
   ]
  },
  {
   "cell_type": "code",
   "execution_count": 120,
   "id": "cfb37620-6de1-4974-8340-98147c27e67c",
   "metadata": {},
   "outputs": [
    {
     "name": "stdout",
     "output_type": "stream",
     "text": [
      "[[3, 4, 5], [1, 2, 3]]\n"
     ]
    }
   ],
   "source": [
    "print(x[::-2])"
   ]
  },
  {
   "cell_type": "code",
   "execution_count": 121,
   "id": "6d99c054-11dc-4d98-8e43-96e55b6129b3",
   "metadata": {},
   "outputs": [
    {
     "name": "stdout",
     "output_type": "stream",
     "text": [
      "[[3, 4, 5], [2, 3, 4], [1, 2, 3]]\n"
     ]
    }
   ],
   "source": [
    "print(x[::-1])"
   ]
  },
  {
   "cell_type": "code",
   "execution_count": 122,
   "id": "9e00d8c5-93ad-49ad-861a-dfc067854ce9",
   "metadata": {},
   "outputs": [
    {
     "name": "stdout",
     "output_type": "stream",
     "text": [
      "[[1, 2, 3], [2, 3, 4], [3, 4, 5]]\n",
      "================================================\n",
      "\t\n"
     ]
    }
   ],
   "source": [
    "x = [[1, 2, 3], [2, 3, 4], [3, 4, 5]]\n",
    "print(x)\n",
    "print(\"================================================\")\n",
    "print('\\t')"
   ]
  },
  {
   "cell_type": "code",
   "execution_count": 47,
   "id": "feb8476d-8368-4317-a39e-6531f1d0971c",
   "metadata": {},
   "outputs": [
    {
     "name": "stdout",
     "output_type": "stream",
     "text": [
      "[1, 2, 3]\n"
     ]
    }
   ],
   "source": [
    "print(x[0])"
   ]
  },
  {
   "cell_type": "code",
   "execution_count": 48,
   "id": "ac88ef1e-b7cb-4535-8b1e-ceb2126f0a73",
   "metadata": {},
   "outputs": [
    {
     "data": {
      "text/plain": [
       "2"
      ]
     },
     "execution_count": 48,
     "metadata": {},
     "output_type": "execute_result"
    }
   ],
   "source": [
    "x[0][1]"
   ]
  },
  {
   "cell_type": "markdown",
   "id": "ecfe0b45-7e99-470d-9632-b2b26d71e857",
   "metadata": {},
   "source": [
    "print(x[1:])"
   ]
  },
  {
   "cell_type": "code",
   "execution_count": 49,
   "id": "007ebb2b-7188-4da1-bd84-f36e47588fe4",
   "metadata": {},
   "outputs": [
    {
     "name": "stdout",
     "output_type": "stream",
     "text": [
      "[[2, 3, 4], [3, 4, 5]]\n"
     ]
    }
   ],
   "source": [
    "print(x[1:])"
   ]
  },
  {
   "cell_type": "code",
   "execution_count": 123,
   "id": "8a36ae61-2a15-43f6-b45c-43c2751f58f1",
   "metadata": {},
   "outputs": [
    {
     "name": "stdout",
     "output_type": "stream",
     "text": [
      "[2, 3, 4]\n"
     ]
    }
   ],
   "source": [
    "print(x[1:][0])"
   ]
  },
  {
   "cell_type": "code",
   "execution_count": 51,
   "id": "4ce8b35c-9f93-4e88-bbd5-11137776d357",
   "metadata": {},
   "outputs": [
    {
     "data": {
      "text/plain": [
       "[3, 4, 5]"
      ]
     },
     "execution_count": 51,
     "metadata": {},
     "output_type": "execute_result"
    }
   ],
   "source": [
    "x[-1]"
   ]
  },
  {
   "cell_type": "code",
   "execution_count": 124,
   "id": "52fe4fa8-5c49-4bfc-b9d1-048165938db4",
   "metadata": {},
   "outputs": [
    {
     "data": {
      "text/plain": [
       "[2, 3]"
      ]
     },
     "execution_count": 124,
     "metadata": {},
     "output_type": "execute_result"
    }
   ],
   "source": [
    "x[1][:2]"
   ]
  },
  {
   "cell_type": "code",
   "execution_count": 125,
   "id": "27770e31-f998-486e-a6b0-003d645e501d",
   "metadata": {},
   "outputs": [
    {
     "name": "stdout",
     "output_type": "stream",
     "text": [
      "[3, 4]\n"
     ]
    }
   ],
   "source": [
    "print(x[1][1:])"
   ]
  },
  {
   "cell_type": "code",
   "execution_count": 126,
   "id": "0b6b6ded-2921-4436-8def-2ab2e3547e4b",
   "metadata": {},
   "outputs": [
    {
     "name": "stdout",
     "output_type": "stream",
     "text": [
      "[0, 2, 4, 6, 8, 10]\n"
     ]
    }
   ],
   "source": [
    "x= range(0, 11, 2)\n",
    "print(list(x))"
   ]
  },
  {
   "cell_type": "code",
   "execution_count": 64,
   "id": "6d2d2b1a-b140-456e-b436-5ab79eff21bc",
   "metadata": {},
   "outputs": [
    {
     "data": {
      "text/plain": [
       "6"
      ]
     },
     "execution_count": 64,
     "metadata": {},
     "output_type": "execute_result"
    }
   ],
   "source": [
    "len(x)"
   ]
  },
  {
   "cell_type": "code",
   "execution_count": 127,
   "id": "2c24d6c2-2393-438b-962d-dff87e68ff6d",
   "metadata": {},
   "outputs": [
    {
     "name": "stdout",
     "output_type": "stream",
     "text": [
      "['giraffe', 'tiger', 'monkey', 'mouse']\n"
     ]
    }
   ],
   "source": [
    "x = ['giraffe', 'tiger']\n",
    "y = ['monkey', 'mouse']\n",
    "z = x + y\n",
    "print(z)"
   ]
  },
  {
   "cell_type": "code",
   "execution_count": 128,
   "id": "06b70635-b23a-45f7-8658-42569a0c299d",
   "metadata": {},
   "outputs": [
    {
     "name": "stdout",
     "output_type": "stream",
     "text": [
      "['giraffe', 24, 18, 'tiger', 2400, 150, 'giraffe', 24, 18, 'tiger', 2400, 150, 'giraffe', 24, 18, 'tiger', 2400, 150]\n"
     ]
    }
   ],
   "source": [
    "x = ['giraffe', 24, 18, 'tiger', 2400, 150]\n",
    "y = x + x + x\n",
    "print(y)"
   ]
  },
  {
   "cell_type": "code",
   "execution_count": 129,
   "id": "f1ded1b8-e0e4-4019-ae30-84b3c9ce0049",
   "metadata": {},
   "outputs": [
    {
     "name": "stdout",
     "output_type": "stream",
     "text": [
      "['Monday', 'Tuesday', 'Wednesday', 1900, 20.357, 'Thursday', 'Friday Saint']\n"
     ]
    }
   ],
   "source": [
    "x = ['Monday', 'Tuesday', 'Wednesday', 1800, 20.357, 'Thursday', 'Friday']\n",
    "x[3] = x[3] + 100\n",
    "x[6] = x[6] + ' Saint'\n",
    "print(x)"
   ]
  },
  {
   "cell_type": "code",
   "execution_count": 130,
   "id": "3ab1e961-1960-42ce-8c93-f0cf163fd528",
   "metadata": {},
   "outputs": [
    {
     "name": "stdout",
     "output_type": "stream",
     "text": [
      "['Monday', 'Tuesday', 'Wednesday', 'Thursday', 'Friday', 'Saturday', 'Sunday']\n"
     ]
    }
   ],
   "source": [
    "x = ['Monday', 'Tuesday', 'Wednesday', 'Thursday', 'Friday']\n",
    "x.append('Saturday')\n",
    "x.append('Sunday')\n",
    "print(x)"
   ]
  },
  {
   "cell_type": "code",
   "execution_count": 131,
   "id": "10175fe3-6e0c-40e0-a1d1-d7868cf785c9",
   "metadata": {},
   "outputs": [
    {
     "name": "stdout",
     "output_type": "stream",
     "text": [
      "['Monday', 'Tuesday', 'Wednesday', 'Thursday', 'Friday', 'Saturday', 'Sunday']\n"
     ]
    }
   ],
   "source": [
    "x = ['Monday', 'Tuesday', 'Wednesday', 'Thursday', 'Friday']\n",
    "x.extend(['Saturday', 'Sunday'])\n",
    "print(x)"
   ]
  },
  {
   "cell_type": "code",
   "execution_count": 132,
   "id": "c23338c4-9eb2-488b-a742-ad098274a24b",
   "metadata": {},
   "outputs": [],
   "source": [
    "X, Y = set('abcd'), set('sbds')"
   ]
  },
  {
   "cell_type": "code",
   "execution_count": 133,
   "id": "00628a7d-5e7a-4915-8f99-33a38360de72",
   "metadata": {},
   "outputs": [
    {
     "name": "stdout",
     "output_type": "stream",
     "text": [
      "X = {'c', 'a', 'd', 'b'}\n"
     ]
    }
   ],
   "source": [
    "print(\"X =\", X)"
   ]
  },
  {
   "cell_type": "code",
   "execution_count": 134,
   "id": "83dde42f-064d-4164-afb3-c6cc4afce663",
   "metadata": {},
   "outputs": [
    {
     "name": "stdout",
     "output_type": "stream",
     "text": [
      "Y = {'d', 's', 'b'}\n"
     ]
    }
   ],
   "source": [
    "print(\"Y =\", Y)"
   ]
  },
  {
   "cell_type": "code",
   "execution_count": 135,
   "id": "e95bea30-612a-4ffc-a052-f1c28b9eaee9",
   "metadata": {},
   "outputs": [
    {
     "name": "stdout",
     "output_type": "stream",
     "text": [
      "True\n"
     ]
    }
   ],
   "source": [
    "print('c' in X)"
   ]
  },
  {
   "cell_type": "code",
   "execution_count": 136,
   "id": "965c4cf6-46c9-4cd2-8fe8-93c13e17d57a",
   "metadata": {},
   "outputs": [
    {
     "name": "stdout",
     "output_type": "stream",
     "text": [
      "False\n"
     ]
    }
   ],
   "source": [
    "print('a' in Y)"
   ]
  },
  {
   "cell_type": "code",
   "execution_count": 137,
   "id": "e25b8c4f-8854-467d-96ee-b175d10718c0",
   "metadata": {},
   "outputs": [
    {
     "name": "stdout",
     "output_type": "stream",
     "text": [
      "{'c', 'a'}\n"
     ]
    }
   ],
   "source": [
    "print(X-Y)"
   ]
  },
  {
   "cell_type": "code",
   "execution_count": 138,
   "id": "14ecd1d0-5229-4c33-9221-6003cf807a4d",
   "metadata": {},
   "outputs": [
    {
     "name": "stdout",
     "output_type": "stream",
     "text": [
      "{'s'}\n"
     ]
    }
   ],
   "source": [
    "print(Y-X)"
   ]
  },
  {
   "cell_type": "code",
   "execution_count": 139,
   "id": "6ed01bf5-8c5e-413b-800d-3121dc7bf40f",
   "metadata": {},
   "outputs": [
    {
     "name": "stdout",
     "output_type": "stream",
     "text": [
      "{'c', 'd', 'b', 'a', 's'}\n"
     ]
    }
   ],
   "source": [
    "print(X | Y)"
   ]
  },
  {
   "cell_type": "code",
   "execution_count": 141,
   "id": "d58e83be-3c50-409b-b18c-4464d53ef026",
   "metadata": {},
   "outputs": [
    {
     "name": "stdout",
     "output_type": "stream",
     "text": [
      "{'d', 'b'}\n"
     ]
    }
   ],
   "source": [
    "print(X & Y)"
   ]
  },
  {
   "cell_type": "code",
   "execution_count": 142,
   "id": "3c84c03a-46fe-4145-89da-639c72b741b2",
   "metadata": {},
   "outputs": [],
   "source": [
    "x = {'name': 'Jean', 'age': 25, 'weight': 70, 'height': 1.75}\n",
    "y = {'Jean': [25, 70, 1.75], 'Paul': [30, 65, 1.80], 'Pierre': [35, 75, 1.65]}\n",
    "z = {'Jean': (25, 70, 1.75), 'Paul': (30, 65, 1.80), 'Pierre': (35, 75, 1.65)}\n",
    "k = {'name': 'Jean', 'biometrics': [25, 70, 1.75], 'score': (12, 17, 15), 'rank': 25}"
   ]
  },
  {
   "cell_type": "code",
   "execution_count": 143,
   "id": "03618772-889d-4953-be06-9bc18f449d8f",
   "metadata": {},
   "outputs": [
    {
     "name": "stdout",
     "output_type": "stream",
     "text": [
      "dict_keys(['name', 'age', 'weight', 'height'])\n"
     ]
    }
   ],
   "source": [
    "x = {'name': 'Jean', 'age': 25, 'weight': 70, 'height': 1.75}\n",
    "print(x.keys())"
   ]
  },
  {
   "cell_type": "code",
   "execution_count": 144,
   "id": "dd2e2648-e8f8-4e69-aba0-6b6debd12771",
   "metadata": {},
   "outputs": [
    {
     "name": "stdout",
     "output_type": "stream",
     "text": [
      "dict_values(['Jean', 25, 70, 1.75])\n"
     ]
    }
   ],
   "source": [
    "print(x.values())"
   ]
  },
  {
   "cell_type": "code",
   "execution_count": 145,
   "id": "7f156e53-d0aa-4aa0-aa45-75516ba30495",
   "metadata": {},
   "outputs": [
    {
     "name": "stdout",
     "output_type": "stream",
     "text": [
      "Jean\n"
     ]
    }
   ],
   "source": [
    "print(x['name'])"
   ]
  },
  {
   "cell_type": "code",
   "execution_count": 146,
   "id": "13b32b3a-d8d2-41ec-aa8d-36acb369ca1e",
   "metadata": {},
   "outputs": [],
   "source": [
    "x = {'Jean': [25, 70, 1.75], 'Paul': [30, 65, 1.80], 'Pierre': [35, 75, 1.65]}"
   ]
  },
  {
   "cell_type": "code",
   "execution_count": 147,
   "id": "d5154562-68f1-4926-9f02-8a172e9fadea",
   "metadata": {},
   "outputs": [
    {
     "name": "stdout",
     "output_type": "stream",
     "text": [
      "[25, 70, 1.75]\n"
     ]
    }
   ],
   "source": [
    "print(x['Jean'])"
   ]
  },
  {
   "cell_type": "code",
   "execution_count": 148,
   "id": "b9c90557-d6e6-4b37-a02a-087a498231e3",
   "metadata": {},
   "outputs": [
    {
     "name": "stdout",
     "output_type": "stream",
     "text": [
      "25\n"
     ]
    }
   ],
   "source": [
    "print(x['Jean'][0])"
   ]
  },
  {
   "cell_type": "code",
   "execution_count": 149,
   "id": "e2e1a46c-d4ef-4aea-b7b6-f7adf2c21165",
   "metadata": {},
   "outputs": [
    {
     "name": "stdout",
     "output_type": "stream",
     "text": [
      "[25, 70]\n"
     ]
    }
   ],
   "source": [
    "print(x['Jean'][0:2])"
   ]
  },
  {
   "cell_type": "code",
   "execution_count": 150,
   "id": "50fdd416-1b9f-4b0d-9fe8-f78dc4733166",
   "metadata": {},
   "outputs": [
    {
     "name": "stdout",
     "output_type": "stream",
     "text": [
      "{'Jean': [30, 70, 1.75], 'Paul': [30, 65, 1.8], 'Pierre': [35, 75, 1.65]}\n"
     ]
    }
   ],
   "source": [
    "x['Jean'][0]=30\n",
    "print(x)"
   ]
  },
  {
   "cell_type": "code",
   "execution_count": 151,
   "id": "e66d06e5-75f4-47f1-8ae0-c05019ba81c4",
   "metadata": {},
   "outputs": [
    {
     "name": "stdout",
     "output_type": "stream",
     "text": [
      "{'Jean': [30, 70, 1.75], 'Pierre': [35, 75, 1.65]}\n"
     ]
    }
   ],
   "source": [
    "del x['Paul']\n",
    "print(x)"
   ]
  },
  {
   "cell_type": "code",
   "execution_count": 152,
   "id": "adc57c93-299b-48e8-841c-bd48f561af3c",
   "metadata": {},
   "outputs": [
    {
     "name": "stdout",
     "output_type": "stream",
     "text": [
      "{'Paul': [30, 65, 1.8], 'Pierre': [35, 75, 1.65], 'John': [25, 70, 1.75]}\n"
     ]
    }
   ],
   "source": [
    "x = {'Jean': [25, 70, 1.75], 'Paul': [30, 65, 1.80], 'Pierre': [35, 75, 1.65]}\n",
    "x['John'] = x.pop('Jean') # Renames the key 'Jean' to 'John'\n",
    "print(x)"
   ]
  },
  {
   "cell_type": "code",
   "execution_count": null,
   "id": "ac38a796-88fd-43eb-a114-c4cbbfa1287b",
   "metadata": {},
   "outputs": [],
   "source": []
  }
 ],
 "metadata": {
  "kernelspec": {
   "display_name": "Python 3 (ipykernel)",
   "language": "python",
   "name": "python3"
  },
  "language_info": {
   "codemirror_mode": {
    "name": "ipython",
    "version": 3
   },
   "file_extension": ".py",
   "mimetype": "text/x-python",
   "name": "python",
   "nbconvert_exporter": "python",
   "pygments_lexer": "ipython3",
   "version": "3.13.5"
  }
 },
 "nbformat": 4,
 "nbformat_minor": 5
}
