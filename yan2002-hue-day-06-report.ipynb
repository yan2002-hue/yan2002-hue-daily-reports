{
 "cells": [
  {
   "cell_type": "markdown",
   "id": "be423713-7939-4329-be0f-f4dbdb22f817",
   "metadata": {},
   "source": [
    "## if .... else :"
   ]
  },
  {
   "cell_type": "code",
   "execution_count": 3,
   "id": "bddab6ec-9053-4b71-ac3b-7d42034da791",
   "metadata": {},
   "outputs": [
    {
     "name": "stdout",
     "output_type": "stream",
     "text": [
      "27\n",
      "We don't have it\n"
     ]
    }
   ],
   "source": [
    "a = 27\n",
    "print(a)\n",
    "if (a>29):\n",
    "    print(\"We have it\")\n",
    "else: \n",
    "    print(\"We don't have it\")"
   ]
  },
  {
   "cell_type": "markdown",
   "id": "1386c3f8-5a93-4321-b833-024d198c7938",
   "metadata": {},
   "source": [
    "## if ..... elif ... else :"
   ]
  },
  {
   "cell_type": "code",
   "execution_count": 4,
   "id": "d64938a3-3921-4878-b232-86870e02d1fc",
   "metadata": {},
   "outputs": [
    {
     "name": "stdout",
     "output_type": "stream",
     "text": [
      " x is zero\n"
     ]
    }
   ],
   "source": [
    "x = 0\n",
    "if x>0: \n",
    "    print(\"x is positive\")\n",
    "elif x<0:\n",
    "    print(\"x is negative\")\n",
    "else: \n",
    "    print(\" x is zero\")"
   ]
  },
  {
   "cell_type": "markdown",
   "id": "0cdabaa7-749b-4629-a46b-ccaa1c08d7b6",
   "metadata": {},
   "source": [
    "## Nested clauses"
   ]
  },
  {
   "cell_type": "code",
   "execution_count": 6,
   "id": "d0b65087-c0ba-483a-ae17-85c52dd0483d",
   "metadata": {},
   "outputs": [
    {
     "name": "stdout",
     "output_type": "stream",
     "text": [
      "a is greater than b\n",
      " the difference is ...\n"
     ]
    }
   ],
   "source": [
    "a = 15\n",
    "b = 10\n",
    "\n",
    "if a>b:\n",
    "    print(\"a is greater than b\")\n",
    "    if(a-b > 5):\n",
    "        print(\" the difference is ...\")\n",
    "    else: \n",
    "        print(\" the difference is ...\")\n",
    "else:\n",
    "        print(\"b is greater than a \")"
   ]
  },
  {
   "cell_type": "markdown",
   "id": "2c95a5c9-9f3a-44ae-b10c-193b4bd7b63b",
   "metadata": {},
   "source": [
    "## Solve the following quadratic equation: $ax^{2}+bx+c=0$ with $a\\neq 0, b,c\\in\\mathbb{R}$ and $x\\in\\mathbb{R}$.\n"
   ]
  },
  {
   "cell_type": "markdown",
   "id": "81e85caa-a1b7-44be-96dd-daff6585420a",
   "metadata": {},
   "source": [
    " Firstly, we evaluate its discriminant given by the formula : $\\Delta=b^{2}-4ac$.\n",
    "\n",
    " Now, we discuss following the values of $\\Delta$."
   ]
  },
  {
   "cell_type": "code",
   "execution_count": 59,
   "id": "4a0658ab-73ca-40e8-aece-385299cc22fc",
   "metadata": {},
   "outputs": [
    {
     "name": "stdout",
     "output_type": "stream",
     "text": [
      "We obtain two different solution given by:   x_1= -1.1937129433613967 and x_2= -0.13962038997193674\n"
     ]
    }
   ],
   "source": [
    "import random \n",
    "import math \n",
    "number1 = 1\n",
    "number2 = 10\n",
    "a = random.randint(number1, number2)\n",
    "b = random.randint(number1, number2)\n",
    "c = random.randint(number1, number2)\n",
    "d = b**2-4*a*c\n",
    "\n",
    "if d == 0:\n",
    " print(\"We obtain an unique solution given by: x_0=\",-b/(2*a))\n",
    "elif  d > 0:\n",
    "    print(\"We obtain two different solution given by:   x_1=\",(-b-math.sqrt(d))/(2*a), \"and\", \"x_2=\",(-b+math.sqrt(d))/(2*a))\n",
    "else:\n",
    "    print(\" No solution\")"
   ]
  },
  {
   "cell_type": "markdown",
   "id": "50612159-2ef3-4423-a9b2-91bade919e87",
   "metadata": {},
   "source": [
    "Solve this quadratic equation in the case where the coefficients and the unknown are the complex numbers."
   ]
  },
  {
   "cell_type": "code",
   "execution_count": 100,
   "id": "13ee408d-ebad-43f3-be6d-2643084429dd",
   "metadata": {},
   "outputs": [
    {
     "name": "stdout",
     "output_type": "stream",
     "text": [
      "We obtain two conjugate different solutions given by : x_1= (-0.3-0.8426149773176359j) and x_2= (-0.3+0.8426149773176359j)\n"
     ]
    }
   ],
   "source": [
    "import random \n",
    "import math \n",
    "\n",
    "number1 = 1\n",
    "number2 = 10\n",
    "a = random.randint(number1, number2)\n",
    "b = random.randint(number1, number2)\n",
    "c = random.randint(number1, number2)\n",
    "d = b**2-4*a*c\n",
    "\n",
    "if d == 0:\n",
    " print(\"We obtain an unique solution given by: x_0=\",-b/(2*a))\n",
    "elif  d > 0:\n",
    "    print(\"We obtain two different solution given by:   x_1=\",(-b-math.sqrt(d))/(2*a), \"and\", \"x_2=\",(-b+math.sqrt(d))/(2*a))\n",
    "else:\n",
    "    print(\"We obtain two conjugate different solutions given by : x_1=\",(-b-cmath.sqrt(d))/(2*a), \"and\", \"x_2=\",(-b+cmath.sqrt(d))/(2*a))"
   ]
  },
  {
   "cell_type": "markdown",
   "id": "56691a74-4196-4e8c-8f8f-b7443023ab32",
   "metadata": {},
   "source": [
    "## Loops\n",
    "\n",
    "While loop"
   ]
  },
  {
   "cell_type": "code",
   "execution_count": 102,
   "id": "73c859ce-778d-419c-a0e8-3bf10d75481b",
   "metadata": {},
   "outputs": [
    {
     "name": "stdout",
     "output_type": "stream",
     "text": [
      "The value of i is  1\n",
      "The value of i is  2\n",
      "The value of i is  3\n",
      "The value of i is  4\n",
      "The value of i is  5\n",
      "The value of i is  6\n",
      "The value of i is  7\n",
      "The value of i is  8\n",
      "The value of i is  9\n"
     ]
    }
   ],
   "source": [
    "i = 1\n",
    "while (i < 10):\n",
    "    print(\"The value of i is \", i)\n",
    "    i = i+1"
   ]
  },
  {
   "cell_type": "markdown",
   "id": "8613df20-4bac-44ac-ae2d-e5ca70ae42da",
   "metadata": {},
   "source": [
    "## For"
   ]
  },
  {
   "cell_type": "code",
   "execution_count": 103,
   "id": "dc07b485-013e-4e77-854a-efb89ec4f055",
   "metadata": {},
   "outputs": [
    {
     "name": "stdout",
     "output_type": "stream",
     "text": [
      "The value of i is 0\n",
      "The value of i is 1\n",
      "The value of i is 2\n",
      "The value of i is 3\n",
      "The value of i is 4\n",
      "The value of i is 5\n",
      "The value of i is 6\n",
      "The value of i is 7\n",
      "The value of i is 8\n",
      "The value of i is 9\n"
     ]
    }
   ],
   "source": [
    "n = 10\n",
    "for i in range(n):\n",
    "    print(\"The value of i is\", i)"
   ]
  },
  {
   "cell_type": "code",
   "execution_count": 105,
   "id": "97fbc94b-82f6-4c4f-a4d3-e69339621bc4",
   "metadata": {},
   "outputs": [
    {
     "name": "stdout",
     "output_type": "stream",
     "text": [
      "Try again\n",
      "We found it\n",
      "Try again\n",
      "Try again\n"
     ]
    }
   ],
   "source": [
    "list_fr = [3, 5, 'hello', 98]\n",
    "for i in list_fr:\n",
    "    if i == 5:\n",
    "        print(\"We found it\")\n",
    "    else:\n",
    "        print(\"Try again\")"
   ]
  },
  {
   "cell_type": "code",
   "execution_count": 106,
   "id": "b192f56c-a3bd-4df6-8c97-9f70096b8c96",
   "metadata": {},
   "outputs": [
    {
     "name": "stdout",
     "output_type": "stream",
     "text": [
      " The letter T is a consonnant\n",
      "The letter h is a vowe1\n",
      " The letter i is a consonnant\n",
      "The letter s is a vowe1\n",
      "This is likely a space\n",
      " The letter i is a consonnant\n",
      "The letter s is a vowe1\n",
      "This is likely a space\n",
      " The letter t is a consonnant\n",
      "The letter h is a vowe1\n",
      " The letter e is a consonnant\n",
      "This is likely a space\n",
      "The letter s is a vowe1\n",
      " The letter e is a consonnant\n",
      " The letter c is a consonnant\n",
      " The letter o is a consonnant\n",
      " The letter n is a consonnant\n",
      "The letter d is a vowe1\n",
      "This is likely a space\n",
      " The letter c is a consonnant\n",
      " The letter l is a consonnant\n",
      " The letter a is a consonnant\n",
      "The letter s is a vowe1\n",
      "The letter s is a vowe1\n",
      "This is likely a space\n",
      " The letter i is a consonnant\n",
      " The letter n is a consonnant\n",
      "This is likely a space\n",
      " The letter t is a consonnant\n",
      "The letter h is a vowe1\n",
      " The letter e is a consonnant\n",
      "This is likely a space\n",
      " The letter n is a consonnant\n",
      " The letter e is a consonnant\n",
      " The letter w is a consonnant\n",
      "This is likely a space\n",
      " The letter A is a consonnant\n",
      " The letter I is a consonnant\n",
      " The letter M is a consonnant\n",
      " The letter S is a consonnant\n",
      "This is likely a space\n",
      " The letter b is a consonnant\n",
      "The letter u is a vowe1\n",
      " The letter i is a consonnant\n",
      " The letter l is a consonnant\n",
      "The letter d is a vowe1\n",
      " The letter i is a consonnant\n",
      " The letter n is a consonnant\n",
      "The letter g is a vowe1\n",
      " The letter . is a consonnant\n"
     ]
    }
   ],
   "source": [
    "sentence = \"This is the second class in the new AIMS building.\"\n",
    "for letter in sentence: \n",
    "    if letter in \"jkfgsqgfyshqydfugsuqyg\":\n",
    "        print(\"The letter\", letter, \"is a vowe1\")\n",
    "    elif letter == \" \":\n",
    "        print(\"This is likely a space\")\n",
    "    else:\n",
    "        print(\" The letter\", letter, \"is a consonnant\")"
   ]
  },
  {
   "cell_type": "code",
   "execution_count": null,
   "id": "4c7b2bd6-f184-4ceb-ac25-22528efe47b6",
   "metadata": {},
   "outputs": [],
   "source": [
    "str= \"sbqkjfhqv*&fhjgyfs>\""
   ]
  },
  {
   "cell_type": "code",
   "execution_count": 111,
   "id": "b2ca9466-1bf2-40a2-a70b-352b4d35b826",
   "metadata": {},
   "outputs": [
    {
     "name": "stdout",
     "output_type": "stream",
     "text": [
      "['__add__', '__class__', '__contains__', '__delattr__', '__dir__', '__doc__', '__eq__', '__format__', '__ge__', '__getattribute__', '__getitem__', '__getnewargs__', '__getstate__', '__gt__', '__hash__', '__init__', '__init_subclass__', '__iter__', '__le__', '__len__', '__lt__', '__mod__', '__mul__', '__ne__', '__new__', '__reduce__', '__reduce_ex__', '__repr__', '__rmod__', '__rmul__', '__setattr__', '__sizeof__', '__str__', '__subclasshook__', 'capitalize', 'casefold', 'center', 'count', 'encode', 'endswith', 'expandtabs', 'find', 'format', 'format_map', 'index', 'isalnum', 'isalpha', 'isascii', 'isdecimal', 'isdigit', 'isidentifier', 'islower', 'isnumeric', 'isprintable', 'isspace', 'istitle', 'isupper', 'join', 'ljust', 'lower', 'lstrip', 'maketrans', 'partition', 'removeprefix', 'removesuffix', 'replace', 'rfind', 'rindex', 'rjust', 'rpartition', 'rsplit', 'rstrip', 'split', 'splitlines', 'startswith', 'strip', 'swapcase', 'title', 'translate', 'upper', 'zfill']\n"
     ]
    }
   ],
   "source": [
    "print(dir(str))"
   ]
  },
  {
   "cell_type": "markdown",
   "id": "2b426d4f-934f-4909-a8fb-1ca0e4e5a384",
   "metadata": {},
   "source": [
    "## Recap\n",
    "\n",
    "-flow control: if ... else , if ... elif ... else , if ... if \n",
    "\n",
    "-loops: for loop, while loop "
   ]
  }
 ],
 "metadata": {
  "kernelspec": {
   "display_name": "Python 3 (ipykernel)",
   "language": "python",
   "name": "python3"
  },
  "language_info": {
   "codemirror_mode": {
    "name": "ipython",
    "version": 3
   },
   "file_extension": ".py",
   "mimetype": "text/x-python",
   "name": "python",
   "nbconvert_exporter": "python",
   "pygments_lexer": "ipython3",
   "version": "3.13.5"
  }
 },
 "nbformat": 4,
 "nbformat_minor": 5
}
